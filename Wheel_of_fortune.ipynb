{
  "nbformat": 4,
  "nbformat_minor": 0,
  "metadata": {
    "kernelspec": {
      "display_name": "Python 3",
      "language": "python",
      "name": "python3"
    },
    "language_info": {
      "codemirror_mode": {
        "name": "ipython",
        "version": 3
      },
      "file_extension": ".py",
      "mimetype": "text/x-python",
      "name": "python",
      "nbconvert_exporter": "python",
      "pygments_lexer": "ipython3",
      "version": "3.7.9"
    },
    "colab": {
      "name": "Wheel of fortune.ipynb",
      "provenance": [],
      "include_colab_link": true
    }
  },
  "cells": [
    {
      "cell_type": "markdown",
      "metadata": {
        "id": "view-in-github",
        "colab_type": "text"
      },
      "source": [
        "<a href=\"https://colab.research.google.com/github/Udemebilly/Asian-Project/blob/master/Wheel_of_fortune.ipynb\" target=\"_parent\"><img src=\"https://colab.research.google.com/assets/colab-badge.svg\" alt=\"Open In Colab\"/></a>"
      ]
    },
    {
      "cell_type": "markdown",
      "metadata": {
        "id": "3KAePnCalnLJ"
      },
      "source": [
        "### Simple Wheel of Fortune"
      ]
    },
    {
      "cell_type": "code",
      "metadata": {
        "id": "hsEJgm_6lnLP"
      },
      "source": [
        "import random\n",
        "import time\n",
        "import matplotlib.pyplot as plt\n",
        "from IPython.display import clear_output"
      ],
      "execution_count": null,
      "outputs": []
    },
    {
      "cell_type": "code",
      "metadata": {
        "id": "R_Y0BbZTlnLR"
      },
      "source": [
        "students = [\"Amin\",\n",
        "            \"Billy\",\n",
        "            \"Felicia\",\n",
        "            \"Liliani\",\n",
        "            \"John\",\n",
        "            \"Maya\",\n",
        "            \"Salma\",\n",
        "            \"Yousuf\",\n",
        "            \"Yuliya\" ]"
      ],
      "execution_count": null,
      "outputs": []
    },
    {
      "cell_type": "code",
      "metadata": {
        "id": "FcBg_34AlnLS"
      },
      "source": [
        "def spin_the_wheel_of_fortune(students, max_rounds=3):\n",
        "    \n",
        "    # Define colors of wheel\n",
        "    colors = [\"red\"]+[\"green\"]*(len(students)-1)\n",
        "    \n",
        "    # Generate random number\n",
        "    random_number = random.randint(len(students), len(students)*max_rounds)\n",
        "\n",
        "    for i in range(random_number):\n",
        "\n",
        "        # Shift colors by one index position\n",
        "        colors = colors[1:] + [colors[0]]\n",
        "        \n",
        "        # Plot pie chart\n",
        "        plt.pie([1]*len(students), \n",
        "                labels=students, \n",
        "                colors=colors)\n",
        "        plt.show()\n",
        "\n",
        "        # Sleep for a moment and refresh\n",
        "        time.sleep(1/10)\n",
        "        clear_output(wait=True)     \n",
        "\n",
        "    return students[colors.index(\"red\")]"
      ],
      "execution_count": null,
      "outputs": []
    },
    {
      "cell_type": "code",
      "metadata": {
        "scrolled": true,
        "colab": {
          "base_uri": "https://localhost:8080/",
          "height": 248
        },
        "id": "KkTAjwHblnLS",
        "outputId": "1438d79d-7af8-4938-cc11-643789d81d4d"
      },
      "source": [
        "student = spin_the_wheel_of_fortune(students)"
      ],
      "execution_count": null,
      "outputs": [
        {
          "output_type": "display_data",
          "data": {
            "image/png": "[encoded data removed]",
            "text/plain": [
              "<Figure size 432x288 with 1 Axes>"
            ]
          },
          "metadata": {
            "tags": []
          }
        }
      ]
    },
    {
      "cell_type": "code",
      "metadata": {
        "colab": {
          "base_uri": "https://localhost:8080/",
          "height": 35
        },
        "id": "edbq3oFAlnLU",
        "outputId": "7af19b10-e498-42fb-87ff-ada4c36e09c6"
      },
      "source": [
        "f'{student}, your time to shine!'"
      ],
      "execution_count": null,
      "outputs": [
        {
          "output_type": "execute_result",
          "data": {
            "application/vnd.google.colaboratory.intrinsic+json": {
              "type": "string"
            },
            "text/plain": [
              "'Maya, your time to shine!'"
            ]
          },
          "metadata": {
            "tags": []
          },
          "execution_count": 11
        }
      ]
    },
    {
      "cell_type": "code",
      "metadata": {
        "id": "XxJbJXGdmACX"
      },
      "source": [
        ""
      ],
      "execution_count": null,
      "outputs": []
    }
  ]
}