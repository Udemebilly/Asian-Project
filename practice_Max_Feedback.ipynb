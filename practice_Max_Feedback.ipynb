{
  "nbformat": 4,
  "nbformat_minor": 0,
  "metadata": {
    "colab": {
      "name": "practice-Max-Feedback.ipynb",
      "provenance": [],
      "collapsed_sections": [],
      "include_colab_link": true
    },
    "kernelspec": {
      "name": "python3",
      "display_name": "Python 3"
    },
    "language_info": {
      "name": "python"
    }
  },
  "cells": [
    {
      "cell_type": "markdown",
      "metadata": {
        "id": "view-in-github",
        "colab_type": "text"
      },
      "source": [
        "<a href=\"https://colab.research.google.com/github/Udemebilly/Asian-Project/blob/master/practice_Max_Feedback.ipynb\" target=\"_parent\"><img src=\"https://colab.research.google.com/assets/colab-badge.svg\" alt=\"Open In Colab\"/></a>"
      ]
    },
    {
      "cell_type": "code",
      "metadata": {
        "id": "pQcdEoy4H14b"
      },
      "source": [
        "# Make sure that you install all required packages \n",
        "! pip install -q streamlit\n",
        "! pip install -q pyngrok\n",
        "! pip install -q yfinance"
      ],
      "execution_count": 2,
      "outputs": []
    },
    {
      "cell_type": "code",
      "metadata": {
        "colab": {
          "base_uri": "https://localhost:8080/"
        },
        "id": "3ITcP1puJCHR",
        "outputId": "5d920076-96f9-44fa-8021-fb34004b640d"
      },
      "source": [
        "!ngrok authtoken 1sWqvW0WT1M7eMwOooWScuUEVVb_dygp8ekRGPiEiEoPpuWs"
      ],
      "execution_count": 3,
      "outputs": [
        {
          "output_type": "stream",
          "text": [
            "Authtoken saved to configuration file: /root/.ngrok2/ngrok.yml\n"
          ],
          "name": "stdout"
        }
      ]
    },
    {
      "cell_type": "code",
      "metadata": {
        "id": "6I7YeOU4IXu8"
      },
      "source": [
        "#!ngrok"
      ],
      "execution_count": 4,
      "outputs": []
    },
    {
      "cell_type": "code",
      "metadata": {
        "id": "BqG5xb8RJPKq"
      },
      "source": [
        "from pyngrok import ngrok"
      ],
      "execution_count": 5,
      "outputs": []
    },
    {
      "cell_type": "code",
      "metadata": {
        "colab": {
          "base_uri": "https://localhost:8080/"
        },
        "id": "27tNk3JqJeLv",
        "outputId": "8c63fb98-8c37-423e-ec07-10010f4be420"
      },
      "source": [
        "# Make sure you keep the line %%writefile app.py line when changing things. \n",
        "# This is a Colab notebook \"magic command\" that writes the content of this cell into a Python file name \"app.py\"\n",
        "# Admittedly, this is a bit \"dark magic\" and is due to the fact that we are running streamlit from Colab.\n",
        "%%writefile app.py\n",
        "\n",
        "# Your actual Python/Streamlit app starts here\n",
        "import pandas as pd\n",
        "import streamlit as st\n",
        "import yfinance as yf\n",
        "\n",
        "st.write(\"\"\"\n",
        "# Simple Stock Price App\n",
        "Shown are the stock closing price and volume of Google!\n",
        "\"\"\")\n",
        "\n",
        "tickerSymbol = 'GOOGL'\n",
        "#get data on this ticker\n",
        "tickerData = yf.Ticker(tickerSymbol)\n",
        "\n",
        "tickerDf = tickerData.history(period='1d', start='2010-5-31', end='2020-5-31')\n",
        "\n",
        "\n",
        "st.line_chart(tickerDf.Close)\n",
        "st.line_chart(tickerDf.Volume)"
      ],
      "execution_count": 6,
      "outputs": [
        {
          "output_type": "stream",
          "text": [
            "Writing app.py\n"
          ],
          "name": "stdout"
        }
      ]
    },
    {
      "cell_type": "code",
      "metadata": {
        "id": "nPZ-ABruYIrd",
        "colab": {
          "base_uri": "https://localhost:8080/"
        },
        "outputId": "706fc347-d57a-407f-bcf3-15348d181397"
      },
      "source": [
        "# This is a linux command (non Colab notebook commands can be executed by adding a ! beforehand)\n",
        "# You should see the app.py file in your directory or when you click on the directory icon to the left of the Colab navigation bar\n",
        "!ls"
      ],
      "execution_count": 7,
      "outputs": [
        {
          "output_type": "stream",
          "text": [
            "app.py\tsample_data\n"
          ],
          "name": "stdout"
        }
      ]
    },
    {
      "cell_type": "code",
      "metadata": {
        "id": "wYAh8py2JkwQ"
      },
      "source": [
        "# This is a command starting up Streamlit in you Colab environment and running it in the background so you can continue working in the notebook\n",
        "! streamlit run app.py&>/dev/null&"
      ],
      "execution_count": 8,
      "outputs": []
    },
    {
      "cell_type": "code",
      "metadata": {
        "id": "cFfe8gh7YM-G",
        "colab": {
          "base_uri": "https://localhost:8080/"
        },
        "outputId": "3e9e684c-c152-4efc-fd25-0f10c8187263"
      },
      "source": [
        "# This command establishes a connection (\"tunnel\") between the Colab environment (which now basically serves a backend) and the domain under which you can review your app\n",
        "publ_url = ngrok.connect(addr=\"8501\")\n",
        "publ_url"
      ],
      "execution_count": 9,
      "outputs": [
        {
          "output_type": "execute_result",
          "data": {
            "text/plain": [
              "<NgrokTunnel: \"http://8472c622d946.ngrok.io\" -> \"http://localhost:8501\">"
            ]
          },
          "metadata": {
            "tags": []
          },
          "execution_count": 9
        }
      ]
    },
    {
      "cell_type": "code",
      "metadata": {
        "id": "rJs1e0O0YcZ1"
      },
      "source": [
        ""
      ],
      "execution_count": 9,
      "outputs": []
    }
  ]
}